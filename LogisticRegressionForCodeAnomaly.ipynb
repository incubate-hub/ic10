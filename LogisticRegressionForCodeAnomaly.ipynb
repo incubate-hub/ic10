{
  "nbformat": 4,
  "nbformat_minor": 0,
  "metadata": {
    "colab": {
      "provenance": [],
      "authorship_tag": "ABX9TyMF3vA5EcEFXiv5V94u7MHw",
      "include_colab_link": true
    },
    "kernelspec": {
      "name": "python3",
      "display_name": "Python 3"
    },
    "language_info": {
      "name": "python"
    }
  },
  "cells": [
    {
      "cell_type": "markdown",
      "metadata": {
        "id": "view-in-github",
        "colab_type": "text"
      },
      "source": [
        "<a href=\"https://colab.research.google.com/github/incubate-hub/ic10/blob/main/LogisticRegressionForCodeAnomaly.ipynb\" target=\"_parent\"><img src=\"https://colab.research.google.com/assets/colab-badge.svg\" alt=\"Open In Colab\"/></a>"
      ]
    },
    {
      "cell_type": "code",
      "execution_count": 17,
      "metadata": {
        "id": "2igrHOR6-TFv"
      },
      "outputs": [],
      "source": [
        "import pandas as pd\n",
        "from sklearn.model_selection import train_test_split\n",
        "from sklearn.preprocessing import StandardScaler\n",
        "from sklearn.linear_model import LogisticRegression\n",
        "from sklearn.metrics import accuracy_score"
      ]
    },
    {
      "cell_type": "code",
      "source": [
        "# Load the dataset\n",
        "data = pd.read_csv(\"data.csv\")\n",
        "data.head()"
      ],
      "metadata": {
        "colab": {
          "base_uri": "https://localhost:8080/",
          "height": 297
        },
        "id": "CcWWALx4CJp2",
        "outputId": "8b0c2ce6-6413-4ab0-a06b-c071212c13d7"
      },
      "execution_count": 18,
      "outputs": [
        {
          "output_type": "execute_result",
          "data": {
            "text/plain": [
              "     loc  v(g)  ev(g)  iv(g)      n        v     l      d       i         e  \\\n",
              "0    1.1   1.4    1.4    1.4    1.3     1.30  1.30   1.30    1.30      1.30   \n",
              "1    1.0   1.0    1.0    1.0    1.0     1.00  1.00   1.00    1.00      1.00   \n",
              "2   72.0   7.0    1.0    6.0  198.0  1134.13  0.05  20.31   55.85  23029.10   \n",
              "3  190.0   3.0    1.0    3.0  600.0  4348.76  0.06  17.06  254.87  74202.67   \n",
              "4   37.0   4.0    1.0    4.0  126.0   599.12  0.06  17.19   34.86  10297.30   \n",
              "\n",
              "   ...  loCode numeric  loComment numeric  loBlank numeric  \\\n",
              "0  ...               2                  2                2   \n",
              "1  ...               1                  1                1   \n",
              "2  ...              51                 10                8   \n",
              "3  ...             129                 29               28   \n",
              "4  ...              28                  1                6   \n",
              "\n",
              "   locCodeAndComment numeric  uniq_Op numeric  uniqOpnd numeric  \\\n",
              "0                          2              1.2               1.2   \n",
              "1                          1                1                 1   \n",
              "2                          1               17                36   \n",
              "3                          2               17               135   \n",
              "4                          0               11                16   \n",
              "\n",
              "  total_Op numeric  total_Opnd numeric  branchCount numeric  defects  \n",
              "0              1.2                 1.2                  1.4    False  \n",
              "1                1                   1                    1     True  \n",
              "2              112                  86                   13     True  \n",
              "3              329                 271                    5     True  \n",
              "4               76                  50                    7     True  \n",
              "\n",
              "[5 rows x 22 columns]"
            ],
            "text/html": [
              "\n",
              "  <div id=\"df-e878ed6c-4399-4fab-a376-02b467d95f85\">\n",
              "    <div class=\"colab-df-container\">\n",
              "      <div>\n",
              "<style scoped>\n",
              "    .dataframe tbody tr th:only-of-type {\n",
              "        vertical-align: middle;\n",
              "    }\n",
              "\n",
              "    .dataframe tbody tr th {\n",
              "        vertical-align: top;\n",
              "    }\n",
              "\n",
              "    .dataframe thead th {\n",
              "        text-align: right;\n",
              "    }\n",
              "</style>\n",
              "<table border=\"1\" class=\"dataframe\">\n",
              "  <thead>\n",
              "    <tr style=\"text-align: right;\">\n",
              "      <th></th>\n",
              "      <th>loc</th>\n",
              "      <th>v(g)</th>\n",
              "      <th>ev(g)</th>\n",
              "      <th>iv(g)</th>\n",
              "      <th>n</th>\n",
              "      <th>v</th>\n",
              "      <th>l</th>\n",
              "      <th>d</th>\n",
              "      <th>i</th>\n",
              "      <th>e</th>\n",
              "      <th>...</th>\n",
              "      <th>loCode numeric</th>\n",
              "      <th>loComment numeric</th>\n",
              "      <th>loBlank numeric</th>\n",
              "      <th>locCodeAndComment numeric</th>\n",
              "      <th>uniq_Op numeric</th>\n",
              "      <th>uniqOpnd numeric</th>\n",
              "      <th>total_Op numeric</th>\n",
              "      <th>total_Opnd numeric</th>\n",
              "      <th>branchCount numeric</th>\n",
              "      <th>defects</th>\n",
              "    </tr>\n",
              "  </thead>\n",
              "  <tbody>\n",
              "    <tr>\n",
              "      <th>0</th>\n",
              "      <td>1.1</td>\n",
              "      <td>1.4</td>\n",
              "      <td>1.4</td>\n",
              "      <td>1.4</td>\n",
              "      <td>1.3</td>\n",
              "      <td>1.30</td>\n",
              "      <td>1.30</td>\n",
              "      <td>1.30</td>\n",
              "      <td>1.30</td>\n",
              "      <td>1.30</td>\n",
              "      <td>...</td>\n",
              "      <td>2</td>\n",
              "      <td>2</td>\n",
              "      <td>2</td>\n",
              "      <td>2</td>\n",
              "      <td>1.2</td>\n",
              "      <td>1.2</td>\n",
              "      <td>1.2</td>\n",
              "      <td>1.2</td>\n",
              "      <td>1.4</td>\n",
              "      <td>False</td>\n",
              "    </tr>\n",
              "    <tr>\n",
              "      <th>1</th>\n",
              "      <td>1.0</td>\n",
              "      <td>1.0</td>\n",
              "      <td>1.0</td>\n",
              "      <td>1.0</td>\n",
              "      <td>1.0</td>\n",
              "      <td>1.00</td>\n",
              "      <td>1.00</td>\n",
              "      <td>1.00</td>\n",
              "      <td>1.00</td>\n",
              "      <td>1.00</td>\n",
              "      <td>...</td>\n",
              "      <td>1</td>\n",
              "      <td>1</td>\n",
              "      <td>1</td>\n",
              "      <td>1</td>\n",
              "      <td>1</td>\n",
              "      <td>1</td>\n",
              "      <td>1</td>\n",
              "      <td>1</td>\n",
              "      <td>1</td>\n",
              "      <td>True</td>\n",
              "    </tr>\n",
              "    <tr>\n",
              "      <th>2</th>\n",
              "      <td>72.0</td>\n",
              "      <td>7.0</td>\n",
              "      <td>1.0</td>\n",
              "      <td>6.0</td>\n",
              "      <td>198.0</td>\n",
              "      <td>1134.13</td>\n",
              "      <td>0.05</td>\n",
              "      <td>20.31</td>\n",
              "      <td>55.85</td>\n",
              "      <td>23029.10</td>\n",
              "      <td>...</td>\n",
              "      <td>51</td>\n",
              "      <td>10</td>\n",
              "      <td>8</td>\n",
              "      <td>1</td>\n",
              "      <td>17</td>\n",
              "      <td>36</td>\n",
              "      <td>112</td>\n",
              "      <td>86</td>\n",
              "      <td>13</td>\n",
              "      <td>True</td>\n",
              "    </tr>\n",
              "    <tr>\n",
              "      <th>3</th>\n",
              "      <td>190.0</td>\n",
              "      <td>3.0</td>\n",
              "      <td>1.0</td>\n",
              "      <td>3.0</td>\n",
              "      <td>600.0</td>\n",
              "      <td>4348.76</td>\n",
              "      <td>0.06</td>\n",
              "      <td>17.06</td>\n",
              "      <td>254.87</td>\n",
              "      <td>74202.67</td>\n",
              "      <td>...</td>\n",
              "      <td>129</td>\n",
              "      <td>29</td>\n",
              "      <td>28</td>\n",
              "      <td>2</td>\n",
              "      <td>17</td>\n",
              "      <td>135</td>\n",
              "      <td>329</td>\n",
              "      <td>271</td>\n",
              "      <td>5</td>\n",
              "      <td>True</td>\n",
              "    </tr>\n",
              "    <tr>\n",
              "      <th>4</th>\n",
              "      <td>37.0</td>\n",
              "      <td>4.0</td>\n",
              "      <td>1.0</td>\n",
              "      <td>4.0</td>\n",
              "      <td>126.0</td>\n",
              "      <td>599.12</td>\n",
              "      <td>0.06</td>\n",
              "      <td>17.19</td>\n",
              "      <td>34.86</td>\n",
              "      <td>10297.30</td>\n",
              "      <td>...</td>\n",
              "      <td>28</td>\n",
              "      <td>1</td>\n",
              "      <td>6</td>\n",
              "      <td>0</td>\n",
              "      <td>11</td>\n",
              "      <td>16</td>\n",
              "      <td>76</td>\n",
              "      <td>50</td>\n",
              "      <td>7</td>\n",
              "      <td>True</td>\n",
              "    </tr>\n",
              "  </tbody>\n",
              "</table>\n",
              "<p>5 rows × 22 columns</p>\n",
              "</div>\n",
              "      <button class=\"colab-df-convert\" onclick=\"convertToInteractive('df-e878ed6c-4399-4fab-a376-02b467d95f85')\"\n",
              "              title=\"Convert this dataframe to an interactive table.\"\n",
              "              style=\"display:none;\">\n",
              "        \n",
              "  <svg xmlns=\"http://www.w3.org/2000/svg\" height=\"24px\"viewBox=\"0 0 24 24\"\n",
              "       width=\"24px\">\n",
              "    <path d=\"M0 0h24v24H0V0z\" fill=\"none\"/>\n",
              "    <path d=\"M18.56 5.44l.94 2.06.94-2.06 2.06-.94-2.06-.94-.94-2.06-.94 2.06-2.06.94zm-11 1L8.5 8.5l.94-2.06 2.06-.94-2.06-.94L8.5 2.5l-.94 2.06-2.06.94zm10 10l.94 2.06.94-2.06 2.06-.94-2.06-.94-.94-2.06-.94 2.06-2.06.94z\"/><path d=\"M17.41 7.96l-1.37-1.37c-.4-.4-.92-.59-1.43-.59-.52 0-1.04.2-1.43.59L10.3 9.45l-7.72 7.72c-.78.78-.78 2.05 0 2.83L4 21.41c.39.39.9.59 1.41.59.51 0 1.02-.2 1.41-.59l7.78-7.78 2.81-2.81c.8-.78.8-2.07 0-2.86zM5.41 20L4 18.59l7.72-7.72 1.47 1.35L5.41 20z\"/>\n",
              "  </svg>\n",
              "      </button>\n",
              "      \n",
              "  <style>\n",
              "    .colab-df-container {\n",
              "      display:flex;\n",
              "      flex-wrap:wrap;\n",
              "      gap: 12px;\n",
              "    }\n",
              "\n",
              "    .colab-df-convert {\n",
              "      background-color: #E8F0FE;\n",
              "      border: none;\n",
              "      border-radius: 50%;\n",
              "      cursor: pointer;\n",
              "      display: none;\n",
              "      fill: #1967D2;\n",
              "      height: 32px;\n",
              "      padding: 0 0 0 0;\n",
              "      width: 32px;\n",
              "    }\n",
              "\n",
              "    .colab-df-convert:hover {\n",
              "      background-color: #E2EBFA;\n",
              "      box-shadow: 0px 1px 2px rgba(60, 64, 67, 0.3), 0px 1px 3px 1px rgba(60, 64, 67, 0.15);\n",
              "      fill: #174EA6;\n",
              "    }\n",
              "\n",
              "    [theme=dark] .colab-df-convert {\n",
              "      background-color: #3B4455;\n",
              "      fill: #D2E3FC;\n",
              "    }\n",
              "\n",
              "    [theme=dark] .colab-df-convert:hover {\n",
              "      background-color: #434B5C;\n",
              "      box-shadow: 0px 1px 3px 1px rgba(0, 0, 0, 0.15);\n",
              "      filter: drop-shadow(0px 1px 2px rgba(0, 0, 0, 0.3));\n",
              "      fill: #FFFFFF;\n",
              "    }\n",
              "  </style>\n",
              "\n",
              "      <script>\n",
              "        const buttonEl =\n",
              "          document.querySelector('#df-e878ed6c-4399-4fab-a376-02b467d95f85 button.colab-df-convert');\n",
              "        buttonEl.style.display =\n",
              "          google.colab.kernel.accessAllowed ? 'block' : 'none';\n",
              "\n",
              "        async function convertToInteractive(key) {\n",
              "          const element = document.querySelector('#df-e878ed6c-4399-4fab-a376-02b467d95f85');\n",
              "          const dataTable =\n",
              "            await google.colab.kernel.invokeFunction('convertToInteractive',\n",
              "                                                     [key], {});\n",
              "          if (!dataTable) return;\n",
              "\n",
              "          const docLinkHtml = 'Like what you see? Visit the ' +\n",
              "            '<a target=\"_blank\" href=https://colab.research.google.com/notebooks/data_table.ipynb>data table notebook</a>'\n",
              "            + ' to learn more about interactive tables.';\n",
              "          element.innerHTML = '';\n",
              "          dataTable['output_type'] = 'display_data';\n",
              "          await google.colab.output.renderOutput(dataTable, element);\n",
              "          const docLink = document.createElement('div');\n",
              "          docLink.innerHTML = docLinkHtml;\n",
              "          element.appendChild(docLink);\n",
              "        }\n",
              "      </script>\n",
              "    </div>\n",
              "  </div>\n",
              "  "
            ]
          },
          "metadata": {},
          "execution_count": 18
        }
      ]
    },
    {
      "cell_type": "code",
      "source": [
        "data.iloc[:,-1]"
      ],
      "metadata": {
        "colab": {
          "base_uri": "https://localhost:8080/"
        },
        "id": "6pvHHNmXCRGA",
        "outputId": "3c2c3c3b-374e-43e2-acfa-07819b48504c"
      },
      "execution_count": 44,
      "outputs": [
        {
          "output_type": "execute_result",
          "data": {
            "text/plain": [
              "0        False\n",
              "1         True\n",
              "2         True\n",
              "3         True\n",
              "4         True\n",
              "         ...  \n",
              "10880    False\n",
              "10881    False\n",
              "10882    False\n",
              "10883    False\n",
              "10884    False\n",
              "Name:  defects, Length: 10885, dtype: bool"
            ]
          },
          "metadata": {},
          "execution_count": 44
        }
      ]
    },
    {
      "cell_type": "code",
      "source": [
        "list(data.columns)"
      ],
      "metadata": {
        "colab": {
          "base_uri": "https://localhost:8080/"
        },
        "id": "rHH4Jba-H7fm",
        "outputId": "99f35e90-099e-4187-b1c8-aa54d1ac70be"
      },
      "execution_count": 53,
      "outputs": [
        {
          "output_type": "execute_result",
          "data": {
            "text/plain": [
              "['loc',\n",
              " 'v(g)',\n",
              " 'ev(g)',\n",
              " 'iv(g)',\n",
              " 'n',\n",
              " 'v',\n",
              " 'l',\n",
              " 'd',\n",
              " 'i',\n",
              " 'e',\n",
              " 'b',\n",
              " 't',\n",
              " 'loCode numeric',\n",
              " 'loComment numeric',\n",
              " 'loBlank numeric',\n",
              " 'locCodeAndComment numeric',\n",
              " 'uniq_Op numeric',\n",
              " 'uniqOpnd numeric',\n",
              " 'total_Op numeric',\n",
              " ' total_Opnd numeric',\n",
              " ' branchCount numeric',\n",
              " ' defects']"
            ]
          },
          "metadata": {},
          "execution_count": 53
        }
      ]
    },
    {
      "cell_type": "code",
      "source": [
        "data[\" defects\"]"
      ],
      "metadata": {
        "colab": {
          "base_uri": "https://localhost:8080/"
        },
        "id": "f4rgs5VuD4wU",
        "outputId": "fd11d141-b93f-49eb-a9f1-07d5ec3c00d4"
      },
      "execution_count": 51,
      "outputs": [
        {
          "output_type": "execute_result",
          "data": {
            "text/plain": [
              "0        False\n",
              "1         True\n",
              "2         True\n",
              "3         True\n",
              "4         True\n",
              "         ...  \n",
              "10880    False\n",
              "10881    False\n",
              "10882    False\n",
              "10883    False\n",
              "10884    False\n",
              "Name:  defects, Length: 10885, dtype: bool"
            ]
          },
          "metadata": {},
          "execution_count": 51
        }
      ]
    },
    {
      "cell_type": "code",
      "source": [
        "data.info()"
      ],
      "metadata": {
        "colab": {
          "base_uri": "https://localhost:8080/"
        },
        "id": "AuGzsN8wJiiP",
        "outputId": "45662134-cd4d-41c2-da1c-8b8bd6d6a1fa"
      },
      "execution_count": 64,
      "outputs": [
        {
          "output_type": "stream",
          "name": "stdout",
          "text": [
            "<class 'pandas.core.frame.DataFrame'>\n",
            "RangeIndex: 10885 entries, 0 to 10884\n",
            "Data columns (total 22 columns):\n",
            " #   Column                     Non-Null Count  Dtype  \n",
            "---  ------                     --------------  -----  \n",
            " 0   loc                        10885 non-null  float64\n",
            " 1   v(g)                       10885 non-null  float64\n",
            " 2   ev(g)                      10885 non-null  float64\n",
            " 3   iv(g)                      10885 non-null  float64\n",
            " 4   n                          10885 non-null  float64\n",
            " 5   v                          10885 non-null  float64\n",
            " 6   l                          10885 non-null  float64\n",
            " 7   d                          10885 non-null  float64\n",
            " 8   i                          10885 non-null  float64\n",
            " 9   e                          10885 non-null  float64\n",
            " 10  b                          10885 non-null  float64\n",
            " 11  t                          10885 non-null  float64\n",
            " 12  loCode numeric             10885 non-null  int64  \n",
            " 13  loComment numeric          10885 non-null  int64  \n",
            " 14  loBlank numeric            10885 non-null  int64  \n",
            " 15  locCodeAndComment numeric  10885 non-null  int64  \n",
            " 16  uniq_Op numeric            10885 non-null  object \n",
            " 17  uniqOpnd numeric           10885 non-null  object \n",
            " 18  total_Op numeric           10885 non-null  object \n",
            " 19   total_Opnd numeric        10885 non-null  object \n",
            " 20   branchCount numeric       10885 non-null  object \n",
            " 21   defects                   10885 non-null  bool   \n",
            "dtypes: bool(1), float64(12), int64(4), object(5)\n",
            "memory usage: 1.8+ MB\n"
          ]
        }
      ]
    },
    {
      "cell_type": "code",
      "source": [
        "data = data.drop(['uniq_Op numeric', 'uniqOpnd numeric','total_Op numeric',' total_Opnd numeric', ' branchCount numeric'], axis=1)\n",
        "data.info()"
      ],
      "metadata": {
        "colab": {
          "base_uri": "https://localhost:8080/"
        },
        "id": "A9OKjFU2Jddx",
        "outputId": "83385c67-e4cd-4fde-a74f-cd84a4a5c0f7"
      },
      "execution_count": 80,
      "outputs": [
        {
          "output_type": "stream",
          "name": "stdout",
          "text": [
            "<class 'pandas.core.frame.DataFrame'>\n",
            "RangeIndex: 10885 entries, 0 to 10884\n",
            "Data columns (total 17 columns):\n",
            " #   Column                     Non-Null Count  Dtype  \n",
            "---  ------                     --------------  -----  \n",
            " 0   loc                        10885 non-null  float64\n",
            " 1   v(g)                       10885 non-null  float64\n",
            " 2   ev(g)                      10885 non-null  float64\n",
            " 3   iv(g)                      10885 non-null  float64\n",
            " 4   n                          10885 non-null  float64\n",
            " 5   v                          10885 non-null  float64\n",
            " 6   l                          10885 non-null  float64\n",
            " 7   d                          10885 non-null  float64\n",
            " 8   i                          10885 non-null  float64\n",
            " 9   e                          10885 non-null  float64\n",
            " 10  b                          10885 non-null  float64\n",
            " 11  t                          10885 non-null  float64\n",
            " 12  loCode numeric             10885 non-null  int64  \n",
            " 13  loComment numeric          10885 non-null  int64  \n",
            " 14  loBlank numeric            10885 non-null  int64  \n",
            " 15  locCodeAndComment numeric  10885 non-null  int64  \n",
            " 16   defects                   10885 non-null  bool   \n",
            "dtypes: bool(1), float64(12), int64(4)\n",
            "memory usage: 1.3 MB\n"
          ]
        }
      ]
    },
    {
      "cell_type": "code",
      "source": [
        "X = data.drop(' defects',axis=1)\n",
        "y = data[\" defects\"]\n",
        "X, y"
      ],
      "metadata": {
        "colab": {
          "base_uri": "https://localhost:8080/"
        },
        "id": "6hoMHQJtLB62",
        "outputId": "dd896c06-366f-42d1-b202-f0a5bb4a11d0"
      },
      "execution_count": 81,
      "outputs": [
        {
          "output_type": "execute_result",
          "data": {
            "text/plain": [
              "(         loc  v(g)  ev(g)  iv(g)      n        v     l      d       i  \\\n",
              " 0        1.1   1.4    1.4    1.4    1.3     1.30  1.30   1.30    1.30   \n",
              " 1        1.0   1.0    1.0    1.0    1.0     1.00  1.00   1.00    1.00   \n",
              " 2       72.0   7.0    1.0    6.0  198.0  1134.13  0.05  20.31   55.85   \n",
              " 3      190.0   3.0    1.0    3.0  600.0  4348.76  0.06  17.06  254.87   \n",
              " 4       37.0   4.0    1.0    4.0  126.0   599.12  0.06  17.19   34.86   \n",
              " ...      ...   ...    ...    ...    ...      ...   ...    ...     ...   \n",
              " 10880   18.0   4.0    1.0    4.0   52.0   241.48  0.14   7.33   32.93   \n",
              " 10881    9.0   2.0    1.0    2.0   30.0   129.66  0.12   8.25   15.72   \n",
              " 10882   42.0   4.0    1.0    2.0  103.0   519.57  0.04  26.40   19.68   \n",
              " 10883   10.0   1.0    1.0    1.0   36.0   147.15  0.12   8.44   17.44   \n",
              " 10884   19.0   3.0    1.0    1.0   58.0   272.63  0.09  11.57   23.56   \n",
              " \n",
              "               e     b        t  loCode numeric  loComment numeric  \\\n",
              " 0          1.30  1.30     1.30               2                  2   \n",
              " 1          1.00  1.00     1.00               1                  1   \n",
              " 2      23029.10  0.38  1279.39              51                 10   \n",
              " 3      74202.67  1.45  4122.37             129                 29   \n",
              " 4      10297.30  0.20   572.07              28                  1   \n",
              " ...         ...   ...      ...             ...                ...   \n",
              " 10880   1770.86  0.08    98.38              13                  0   \n",
              " 10881   1069.68  0.04    59.43               5                  0   \n",
              " 10882  13716.72  0.17   762.04              29                  1   \n",
              " 10883   1241.57  0.05    68.98               6                  0   \n",
              " 10884   3154.67  0.09   175.26              13                  0   \n",
              " \n",
              "        loBlank numeric  locCodeAndComment numeric  \n",
              " 0                    2                          2  \n",
              " 1                    1                          1  \n",
              " 2                    8                          1  \n",
              " 3                   28                          2  \n",
              " 4                    6                          0  \n",
              " ...                ...                        ...  \n",
              " 10880                2                          0  \n",
              " 10881                2                          0  \n",
              " 10882               10                          0  \n",
              " 10883                2                          0  \n",
              " 10884                2                          1  \n",
              " \n",
              " [10885 rows x 16 columns], 0        False\n",
              " 1         True\n",
              " 2         True\n",
              " 3         True\n",
              " 4         True\n",
              "          ...  \n",
              " 10880    False\n",
              " 10881    False\n",
              " 10882    False\n",
              " 10883    False\n",
              " 10884    False\n",
              " Name:  defects, Length: 10885, dtype: bool)"
            ]
          },
          "metadata": {},
          "execution_count": 81
        }
      ]
    },
    {
      "cell_type": "code",
      "source": [
        "# Split the data into training and testing sets\n",
        "X_train, X_test, y_train, y_test = train_test_split(data.drop(' defects', axis=1), data[' defects'], test_size=0.2)\n"
      ],
      "metadata": {
        "id": "76oj8cDoO16q"
      },
      "execution_count": 82,
      "outputs": []
    },
    {
      "cell_type": "code",
      "source": [
        "# Normalize the features using standardization\n",
        "scaler = StandardScaler()\n",
        "X_train = scaler.fit_transform(X_train)\n",
        "X_test = scaler.transform(X_test)"
      ],
      "metadata": {
        "id": "oJejL2SeO8PB"
      },
      "execution_count": 83,
      "outputs": []
    },
    {
      "cell_type": "code",
      "source": [
        "# Train a logistic regression model\n",
        "model = LogisticRegression()\n",
        "model.fit(X_train, y_train)"
      ],
      "metadata": {
        "colab": {
          "base_uri": "https://localhost:8080/",
          "height": 75
        },
        "id": "Gmk19dcQO-UT",
        "outputId": "c1aa3697-72ba-4489-ca73-ec9467b9eb1d"
      },
      "execution_count": 84,
      "outputs": [
        {
          "output_type": "execute_result",
          "data": {
            "text/plain": [
              "LogisticRegression()"
            ],
            "text/html": [
              "<style>#sk-container-id-1 {color: black;background-color: white;}#sk-container-id-1 pre{padding: 0;}#sk-container-id-1 div.sk-toggleable {background-color: white;}#sk-container-id-1 label.sk-toggleable__label {cursor: pointer;display: block;width: 100%;margin-bottom: 0;padding: 0.3em;box-sizing: border-box;text-align: center;}#sk-container-id-1 label.sk-toggleable__label-arrow:before {content: \"▸\";float: left;margin-right: 0.25em;color: #696969;}#sk-container-id-1 label.sk-toggleable__label-arrow:hover:before {color: black;}#sk-container-id-1 div.sk-estimator:hover label.sk-toggleable__label-arrow:before {color: black;}#sk-container-id-1 div.sk-toggleable__content {max-height: 0;max-width: 0;overflow: hidden;text-align: left;background-color: #f0f8ff;}#sk-container-id-1 div.sk-toggleable__content pre {margin: 0.2em;color: black;border-radius: 0.25em;background-color: #f0f8ff;}#sk-container-id-1 input.sk-toggleable__control:checked~div.sk-toggleable__content {max-height: 200px;max-width: 100%;overflow: auto;}#sk-container-id-1 input.sk-toggleable__control:checked~label.sk-toggleable__label-arrow:before {content: \"▾\";}#sk-container-id-1 div.sk-estimator input.sk-toggleable__control:checked~label.sk-toggleable__label {background-color: #d4ebff;}#sk-container-id-1 div.sk-label input.sk-toggleable__control:checked~label.sk-toggleable__label {background-color: #d4ebff;}#sk-container-id-1 input.sk-hidden--visually {border: 0;clip: rect(1px 1px 1px 1px);clip: rect(1px, 1px, 1px, 1px);height: 1px;margin: -1px;overflow: hidden;padding: 0;position: absolute;width: 1px;}#sk-container-id-1 div.sk-estimator {font-family: monospace;background-color: #f0f8ff;border: 1px dotted black;border-radius: 0.25em;box-sizing: border-box;margin-bottom: 0.5em;}#sk-container-id-1 div.sk-estimator:hover {background-color: #d4ebff;}#sk-container-id-1 div.sk-parallel-item::after {content: \"\";width: 100%;border-bottom: 1px solid gray;flex-grow: 1;}#sk-container-id-1 div.sk-label:hover label.sk-toggleable__label {background-color: #d4ebff;}#sk-container-id-1 div.sk-serial::before {content: \"\";position: absolute;border-left: 1px solid gray;box-sizing: border-box;top: 0;bottom: 0;left: 50%;z-index: 0;}#sk-container-id-1 div.sk-serial {display: flex;flex-direction: column;align-items: center;background-color: white;padding-right: 0.2em;padding-left: 0.2em;position: relative;}#sk-container-id-1 div.sk-item {position: relative;z-index: 1;}#sk-container-id-1 div.sk-parallel {display: flex;align-items: stretch;justify-content: center;background-color: white;position: relative;}#sk-container-id-1 div.sk-item::before, #sk-container-id-1 div.sk-parallel-item::before {content: \"\";position: absolute;border-left: 1px solid gray;box-sizing: border-box;top: 0;bottom: 0;left: 50%;z-index: -1;}#sk-container-id-1 div.sk-parallel-item {display: flex;flex-direction: column;z-index: 1;position: relative;background-color: white;}#sk-container-id-1 div.sk-parallel-item:first-child::after {align-self: flex-end;width: 50%;}#sk-container-id-1 div.sk-parallel-item:last-child::after {align-self: flex-start;width: 50%;}#sk-container-id-1 div.sk-parallel-item:only-child::after {width: 0;}#sk-container-id-1 div.sk-dashed-wrapped {border: 1px dashed gray;margin: 0 0.4em 0.5em 0.4em;box-sizing: border-box;padding-bottom: 0.4em;background-color: white;}#sk-container-id-1 div.sk-label label {font-family: monospace;font-weight: bold;display: inline-block;line-height: 1.2em;}#sk-container-id-1 div.sk-label-container {text-align: center;}#sk-container-id-1 div.sk-container {/* jupyter's `normalize.less` sets `[hidden] { display: none; }` but bootstrap.min.css set `[hidden] { display: none !important; }` so we also need the `!important` here to be able to override the default hidden behavior on the sphinx rendered scikit-learn.org. See: https://github.com/scikit-learn/scikit-learn/issues/21755 */display: inline-block !important;position: relative;}#sk-container-id-1 div.sk-text-repr-fallback {display: none;}</style><div id=\"sk-container-id-1\" class=\"sk-top-container\"><div class=\"sk-text-repr-fallback\"><pre>LogisticRegression()</pre><b>In a Jupyter environment, please rerun this cell to show the HTML representation or trust the notebook. <br />On GitHub, the HTML representation is unable to render, please try loading this page with nbviewer.org.</b></div><div class=\"sk-container\" hidden><div class=\"sk-item\"><div class=\"sk-estimator sk-toggleable\"><input class=\"sk-toggleable__control sk-hidden--visually\" id=\"sk-estimator-id-1\" type=\"checkbox\" checked><label for=\"sk-estimator-id-1\" class=\"sk-toggleable__label sk-toggleable__label-arrow\">LogisticRegression</label><div class=\"sk-toggleable__content\"><pre>LogisticRegression()</pre></div></div></div></div></div>"
            ]
          },
          "metadata": {},
          "execution_count": 84
        }
      ]
    },
    {
      "cell_type": "code",
      "source": [
        "predictions = model.predict(X_test)\n",
        "predictions"
      ],
      "metadata": {
        "colab": {
          "base_uri": "https://localhost:8080/"
        },
        "id": "Fnxg3NouPAVw",
        "outputId": "10f75042-0577-4ba3-f6fc-c91bc2dad83b"
      },
      "execution_count": 85,
      "outputs": [
        {
          "output_type": "execute_result",
          "data": {
            "text/plain": [
              "array([False, False, False, ..., False, False, False])"
            ]
          },
          "metadata": {},
          "execution_count": 85
        }
      ]
    },
    {
      "cell_type": "code",
      "source": [
        "from sklearn.metrics import classification_report\n",
        "print(classification_report(y_test, predictions))"
      ],
      "metadata": {
        "colab": {
          "base_uri": "https://localhost:8080/"
        },
        "id": "XuKCNgliPU-a",
        "outputId": "fc767c1c-9fa8-4791-ae7b-01d44452cb5a"
      },
      "execution_count": 87,
      "outputs": [
        {
          "output_type": "stream",
          "name": "stdout",
          "text": [
            "              precision    recall  f1-score   support\n",
            "\n",
            "       False       0.83      0.98      0.90      1779\n",
            "        True       0.52      0.11      0.18       398\n",
            "\n",
            "    accuracy                           0.82      2177\n",
            "   macro avg       0.67      0.54      0.54      2177\n",
            "weighted avg       0.77      0.82      0.77      2177\n",
            "\n"
          ]
        }
      ]
    },
    {
      "cell_type": "code",
      "source": [
        "# Get the input from the user to make predictions\n",
        "input_data = []\n",
        "for feature in data.columns[:-1]:\n",
        "    value = input(f\"Enter the value of {feature}: \")\n",
        "    input_data.append(float(value))\n",
        "input_data = scaler.transform([input_data])\n",
        "\n",
        "# Make predictions on the input data\n",
        "prediction = model.predict(input_data)[0]\n",
        "if prediction == 0:\n",
        "    print(\"There is no anomaly\")\n",
        "else:\n",
        "    print(\"There is anomaly.\")"
      ],
      "metadata": {
        "colab": {
          "base_uri": "https://localhost:8080/"
        },
        "id": "HTj88jHnPZeG",
        "outputId": "0e27d8ff-3654-4c24-82e2-7a4f3c5ee245"
      },
      "execution_count": 91,
      "outputs": [
        {
          "output_type": "stream",
          "name": "stdout",
          "text": [
            "Enter the value of loc: 1.1\n",
            "Enter the value of v(g): 1.4\n",
            "Enter the value of ev(g): 1.4\n",
            "Enter the value of iv(g): 1.4\n",
            "Enter the value of n: 1.3\n",
            "Enter the value of v: 1.3\n",
            "Enter the value of l: 1.3\n",
            "Enter the value of d: 1.3\n",
            "Enter the value of i: 1.3\n",
            "Enter the value of e: 1.3\n",
            "Enter the value of b: 1.3\n",
            "Enter the value of t: 1.3\n",
            "Enter the value of loCode numeric: 2\n",
            "Enter the value of loComment numeric: 2\n",
            "Enter the value of loBlank numeric: 2\n",
            "Enter the value of locCodeAndComment numeric: 2\n",
            "The model predicts that the output is False.\n"
          ]
        },
        {
          "output_type": "stream",
          "name": "stderr",
          "text": [
            "/usr/local/lib/python3.9/dist-packages/sklearn/base.py:439: UserWarning: X does not have valid feature names, but StandardScaler was fitted with feature names\n",
            "  warnings.warn(\n"
          ]
        }
      ]
    },
    {
      "cell_type": "code",
      "source": [
        "# Make predictions on the testing set\n",
        "y_pred = model.predict(X_test)\n",
        "\n",
        "# Calculate the accuracy score and percentage\n",
        "accuracy = accuracy_score(y_test, y_pred)\n",
        "accuracy_percentage = accuracy * 100\n",
        "print('Accuracy:', accuracy_percentage, '%')\n",
        "\n",
        "# Plot the accuracy score\n",
        "plt.plot(y_test, label='Actual')\n",
        "plt.plot(y_pred, label='Predicted')\n",
        "plt.legend()\n",
        "plt.show()"
      ],
      "metadata": {
        "colab": {
          "base_uri": "https://localhost:8080/",
          "height": 282
        },
        "id": "MeDXA3-hPsDd",
        "outputId": "18cc5a2e-8c7d-4c60-bd3c-f9895765929f"
      },
      "execution_count": 92,
      "outputs": [
        {
          "output_type": "stream",
          "name": "stdout",
          "text": [
            "Accuracy: 81.85576481396417 %\n"
          ]
        },
        {
          "output_type": "display_data",
          "data": {
            "text/plain": [
              "<Figure size 432x288 with 1 Axes>"
            ],
            "image/png": "[encoded data removed]"
          },
          "metadata": {
            "needs_background": "light"
          }
        }
      ]
    },
    {
      "cell_type": "code",
      "source": [
        "from sklearn.preprocessing import MinMaxScaler\n",
        "\n",
        "# Normalize the data\n",
        "scaler = MinMaxScaler()\n",
        "X_train_normalized = scaler.fit_transform(X_train)\n",
        "X_test_normalized = scaler.transform(X_test)\n",
        "\n",
        "# Train the logistic regression model\n",
        "model = LogisticRegression()\n",
        "model.fit(X_train_normalized, y_train)\n",
        "\n",
        "# Evaluate the model accuracy on the test set\n",
        "accuracy = model.score(X_test_normalized, y_test)\n",
        "print(f\"Accuracy: {accuracy}\")"
      ],
      "metadata": {
        "colab": {
          "base_uri": "https://localhost:8080/"
        },
        "id": "-ymUdhMwQvn-",
        "outputId": "e59ea320-a204-4dd7-9b1a-38d6870d7db9"
      },
      "execution_count": 93,
      "outputs": [
        {
          "output_type": "stream",
          "name": "stdout",
          "text": [
            "Accuracy: 0.8171796049609554\n"
          ]
        }
      ]
    },
    {
      "cell_type": "code",
      "source": [
        "import pickle \n",
        "from sklearn.preprocessing import StandardScaler\n",
        "from sklearn.linear_model import LogisticRegression \n",
        "\n",
        "model = LogisticRegression()\n",
        "model.fit(X_train, y_train)\n",
        "\n",
        "# Make predictions on the testing set\n",
        "y_pred = model.predict(X_test)\n",
        "\n",
        "# Calculate the accuracy score and percentage\n",
        "accuracy = accuracy_score(y_test, y_pred)\n",
        "accuracy_percentage = accuracy * 100\n",
        "print( accuracy_percentage)\n",
        "pickle.dump(model, open('anomaly_model.sav','wb'))\n"
      ],
      "metadata": {
        "colab": {
          "base_uri": "https://localhost:8080/"
        },
        "id": "-3oAtPwARri7",
        "outputId": "214b9149-0365-4f9f-8f3d-270e001e9971"
      },
      "execution_count": 95,
      "outputs": [
        {
          "output_type": "stream",
          "name": "stdout",
          "text": [
            "81.85576481396417\n"
          ]
        }
      ]
    },
    {
      "cell_type": "code",
      "source": [
        "import pickle\n",
        "\n",
        "# Load the model from the .sav file\n",
        "with open('/content/anomaly_model.sav', 'rb') as f:\n",
        "    model = pickle.load(f)"
      ],
      "metadata": {
        "id": "zJDaSkC5ywD6"
      },
      "execution_count": 132,
      "outputs": []
    },
    {
      "cell_type": "code",
      "source": [
        "def prediction_model(loc,v,ev,iv,n,v1,l,d,i,e,b,t,loCode_numeric,loComment_numeric,loBlank_numeric,locCodeAndComment_numeric):\n",
        "  input_data = [loc,v,ev,iv,n,v1,l,d,i,e,b,t,loCode_numeric,loComment_numeric,loBlank_numeric,locCodeAndComment_numeric]\n",
        "  input_data = scaler.transform([input_data])  \n",
        "  prediction = model.predict(input_data)[0]\n",
        "  if prediction == 0:\n",
        "      print(\"There is no anomaly\")\n",
        "  else:\n",
        "      print(\"There is anomaly.\")"
      ],
      "metadata": {
        "id": "tzRpMaR44xT8"
      },
      "execution_count": 134,
      "outputs": []
    },
    {
      "cell_type": "code",
      "source": [
        "prediction_model(1.1,1.4,1.4,1.4,1.3,1.3,1.3,1.3,1.3,1.3,1.3,1.3,2,2,2,2)"
      ],
      "metadata": {
        "colab": {
          "base_uri": "https://localhost:8080/"
        },
        "id": "3pIZB6dg5B6p",
        "outputId": "8009758d-9486-471c-df05-4cc7eee43564"
      },
      "execution_count": 135,
      "outputs": [
        {
          "output_type": "stream",
          "name": "stdout",
          "text": [
            "There is no anomaly\n"
          ]
        }
      ]
    },
    {
      "cell_type": "code",
      "source": [],
      "metadata": {
        "id": "7fqGg3de5Hju"
      },
      "execution_count": null,
      "outputs": []
    }
  ]
}